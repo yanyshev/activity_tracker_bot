{
 "cells": [
  {
   "cell_type": "code",
   "id": "initial_id",
   "metadata": {
    "collapsed": true,
    "ExecuteTime": {
     "end_time": "2025-02-04T14:27:44.182313Z",
     "start_time": "2025-02-04T14:27:44.176639Z"
    }
   },
   "source": "import requests",
   "outputs": [],
   "execution_count": 28
  },
  {
   "metadata": {
    "ExecuteTime": {
     "end_time": "2025-02-05T08:51:14.036566Z",
     "start_time": "2025-02-05T08:51:13.708228Z"
    }
   },
   "cell_type": "code",
   "source": [
    "payload={\"lat\":33.4,\n",
    "         \"lon\":94.04,\n",
    "         \"appid\":\"fc98a4d57d94235ad8d925ef8c755151\"}\n",
    "requests.get(f\"https://api.openweathermap.org/data/2.5/weather\", params=payload).json().get(\"main\").get(\"temp\")"
   ],
   "id": "d340b27bce28a25",
   "outputs": [
    {
     "data": {
      "text/plain": [
       "276.13"
      ]
     },
     "execution_count": 36,
     "metadata": {},
     "output_type": "execute_result"
    }
   ],
   "execution_count": 36
  },
  {
   "metadata": {
    "ExecuteTime": {
     "end_time": "2025-02-05T08:53:06.296240Z",
     "start_time": "2025-02-05T08:53:05.924170Z"
    }
   },
   "cell_type": "code",
   "source": [
    "payload = {\"q\": \"Moscow\",\n",
    "           \"limit\":1,\n",
    "           \"appid\":\"fc98a4d57d94235ad8d925ef8c755151\"}\n",
    "print(requests.get(\"http://api.openweathermap.org/geo/1.0/direct\", params=payload).json()[0].get(\"lat\"))\n",
    "print(requests.get(\"http://api.openweathermap.org/geo/1.0/direct\", params=payload).json()[0].get(\"lon\"))"
   ],
   "id": "2e6002683c51ddb7",
   "outputs": [
    {
     "name": "stdout",
     "output_type": "stream",
     "text": [
      "55.7504461\n",
      "37.6174943\n"
     ]
    }
   ],
   "execution_count": 46
  },
  {
   "metadata": {
    "ExecuteTime": {
     "end_time": "2025-02-04T12:05:45.057699Z",
     "start_time": "2025-02-04T12:05:45.056330Z"
    }
   },
   "cell_type": "code",
   "source": "",
   "id": "e217898704fffdc6",
   "outputs": [],
   "execution_count": null
  },
  {
   "metadata": {},
   "cell_type": "code",
   "outputs": [],
   "execution_count": null,
   "source": "",
   "id": "6b80f750c0f3304e"
  }
 ],
 "metadata": {
  "kernelspec": {
   "display_name": "Python 3",
   "language": "python",
   "name": "python3"
  },
  "language_info": {
   "codemirror_mode": {
    "name": "ipython",
    "version": 2
   },
   "file_extension": ".py",
   "mimetype": "text/x-python",
   "name": "python",
   "nbconvert_exporter": "python",
   "pygments_lexer": "ipython2",
   "version": "2.7.6"
  }
 },
 "nbformat": 4,
 "nbformat_minor": 5
}
