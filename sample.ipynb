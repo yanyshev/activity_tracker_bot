{
 "cells": [
  {
   "cell_type": "code",
   "id": "initial_id",
   "metadata": {
    "collapsed": true,
    "ExecuteTime": {
     "end_time": "2025-02-04T07:18:57.990097Z",
     "start_time": "2025-02-04T07:18:57.935022Z"
    }
   },
   "source": "import requests",
   "outputs": [],
   "execution_count": 1
  },
  {
   "metadata": {
    "ExecuteTime": {
     "end_time": "2025-02-04T07:18:58.270979Z",
     "start_time": "2025-02-04T07:18:57.994040Z"
    }
   },
   "cell_type": "code",
   "source": [
    "key=\"fc98a4d57d94235ad8d925ef8c755151\"\n",
    "payload={\"lat\":33.4,\n",
    "         \"lon\":94.04,\n",
    "         \"exclude\":\"hourly, daily\",\n",
    "         \"appid\":\"fc98a4d57d94235ad8d925ef8c755151\"}\n",
    "requests.get(f\"https://api.openweathermap.org/data/3.0/onecall\", params=payload)"
   ],
   "id": "d340b27bce28a25",
   "outputs": [
    {
     "data": {
      "text/plain": [
       "<Response [401]>"
      ]
     },
     "execution_count": 2,
     "metadata": {},
     "output_type": "execute_result"
    }
   ],
   "execution_count": 2
  },
  {
   "metadata": {
    "ExecuteTime": {
     "end_time": "2025-02-04T07:18:58.335164Z",
     "start_time": "2025-02-04T07:18:58.333907Z"
    }
   },
   "cell_type": "code",
   "source": "",
   "id": "2e6002683c51ddb7",
   "outputs": [],
   "execution_count": null
  }
 ],
 "metadata": {
  "kernelspec": {
   "display_name": "Python 3",
   "language": "python",
   "name": "python3"
  },
  "language_info": {
   "codemirror_mode": {
    "name": "ipython",
    "version": 2
   },
   "file_extension": ".py",
   "mimetype": "text/x-python",
   "name": "python",
   "nbconvert_exporter": "python",
   "pygments_lexer": "ipython2",
   "version": "2.7.6"
  }
 },
 "nbformat": 4,
 "nbformat_minor": 5
}
